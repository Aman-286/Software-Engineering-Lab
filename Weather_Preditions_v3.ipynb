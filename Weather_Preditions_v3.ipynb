{
  "cells": [
    {
      "cell_type": "markdown",
      "metadata": {
        "id": "view-in-github",
        "colab_type": "text"
      },
      "source": [
        "<a href=\"https://colab.research.google.com/github/Aman-286/Software-Engineering-Lab/blob/main/Weather_Preditions_v3.ipynb\" target=\"_parent\"><img src=\"https://colab.research.google.com/assets/colab-badge.svg\" alt=\"Open In Colab\"/></a>"
      ]
    },
    {
      "cell_type": "code",
      "source": [
        "t = 15\n",
        "h = 25\n",
        "wind =35\n",
        "w = 0.5 * (t ** 2) - (0.2 * h) + (0.1 * wind) - 15\n",
        "if w > 10:\n",
        "    print(\"Sunny\")\n",
        "elif 0 <= w <= 10:\n",
        "    print(\"Windy\")\n",
        "elif -10 <= w < 0:\n",
        "    print(\"Cloud\")\n",
        "elif w < -10:\n",
        "    print(\"Rainy\")"
      ],
      "metadata": {
        "colab": {
          "base_uri": "https://localhost:8080/"
        },
        "id": "r1Kej2OXnR9c",
        "outputId": "257e5c3d-f7d9-4fc8-ac7a-a4a26299e22e"
      },
      "execution_count": 6,
      "outputs": [
        {
          "output_type": "stream",
          "name": "stdout",
          "text": [
            "Sunny\n"
          ]
        }
      ]
    }
  ],
  "metadata": {
    "colab": {
      "provenance": [],
      "authorship_tag": "ABX9TyO++swatSQTGSvZ4DD48wgi",
      "include_colab_link": true
    },
    "kernelspec": {
      "display_name": "Python 3",
      "name": "python3"
    },
    "language_info": {
      "name": "python"
    }
  },
  "nbformat": 4,
  "nbformat_minor": 0
}