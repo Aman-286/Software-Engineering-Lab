{
  "cells": [
    {
      "cell_type": "markdown",
      "metadata": {
        "id": "view-in-github",
        "colab_type": "text"
      },
      "source": [
        "<a href=\"https://colab.research.google.com/github/Aman-286/Software-Engineering-Lab/blob/main/Weather_Predictions.ipynb\" target=\"_parent\"><img src=\"https://colab.research.google.com/assets/colab-badge.svg\" alt=\"Open In Colab\"/></a>"
      ]
    },
    {
      "cell_type": "code",
      "source": [
        "try:\n",
        "    print(\"User Input Mode:\")\n",
        "    t = int(input('Enter Temperature: '))\n",
        "    h = int(input('Enter Humidity: '))\n",
        "    wind = int(input('Enter Wind Speed: '))\n",
        "\n",
        "    weather_value = 0.5 * (t ** 2) - 0.2 * h + 0.1 * wind - 15\n",
        "\n",
        "    if weather_value > 10:\n",
        "        condition = \"Sunny\"\n",
        "    elif 0 <= weather_value <= 10:\n",
        "        condition = \"Windy\"\n",
        "    elif -10 <= weather_value < 0:\n",
        "        condition = \"Cloudy\"\n",
        "    else:\n",
        "        condition = \"Rainy\"\n",
        "\n",
        "    print(\"Weather Report:\")\n",
        "    print(f\"- Temperature: {t}°C\")\n",
        "    print(f\"- Humidity: {h}%\")\n",
        "    print(f\"- Wind Speed: {wind} km/h\")\n",
        "    print(f\"-> Condition: {condition}\")\n",
        "\n",
        "except KeyboardInterrupt:\n",
        "    print(\"\\nInput interrupted by the user. Exiting the program.\")\n",
        "except ValueError:\n",
        "    print(\"\\nInvalid input. Please enter numeric values for temperature, humidity, and wind speed.\")\n"
      ],
      "metadata": {
        "colab": {
          "base_uri": "https://localhost:8080/"
        },
        "id": "oD2vbe6HmLNX",
        "outputId": "7a4aac9f-ac5c-48b9-8051-cda352e57dfe"
      },
      "execution_count": null,
      "outputs": [
        {
          "output_type": "stream",
          "name": "stdout",
          "text": [
            "User Input Mode:\n",
            "Enter Temperature: 34\n",
            "Enter Humidity: 23\n",
            "Enter Wind Speed: 45\n",
            "Weather Report:\n",
            "- Temperature: 34°C\n",
            "- Humidity: 23%\n",
            "- Wind Speed: 45 km/h\n",
            "-> Condition: Sunny\n"
          ]
        }
      ]
    }
  ],
  "metadata": {
    "colab": {
      "provenance": [],
      "authorship_tag": "ABX9TyPS6fdJ9Qv/fU/Jepf8Ajwy",
      "include_colab_link": true
    },
    "kernelspec": {
      "display_name": "Python 3",
      "name": "python3"
    },
    "language_info": {
      "name": "python"
    }
  },
  "nbformat": 4,
  "nbformat_minor": 0
}