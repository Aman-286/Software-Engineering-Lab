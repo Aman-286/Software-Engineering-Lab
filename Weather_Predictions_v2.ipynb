{
  "cells": [
    {
      "cell_type": "markdown",
      "metadata": {
        "id": "view-in-github",
        "colab_type": "text"
      },
      "source": [
        "<a href=\"https://colab.research.google.com/github/Aman-286/Software-Engineering-Lab/blob/main/Weather_Predictions_v2.ipynb\" target=\"_parent\"><img src=\"https://colab.research.google.com/assets/colab-badge.svg\" alt=\"Open In Colab\"/></a>"
      ]
    },
    {
      "cell_type": "code",
      "source": [
        "with open('weather_input.txt', 'r') as file:\n",
        "    data = file.read().split()\n",
        "t = int(data[0])\n",
        "h = int(data[1])\n",
        "wind = int(data[2])\n",
        "w = 0.5 * (t ** 2) - (0.2 * h) + (0.1 * wind) - 15\n",
        "if w > 10:\n",
        "    print(\"Sunny\")\n",
        "elif 0 <= w <= 10:\n",
        "    print(\"Windy\")\n",
        "elif -10 <= w < 0:\n",
        "    print(\"Cloud\")\n",
        "elif w < -10:\n",
        "    print(\"Rainy\")"
      ],
      "metadata": {
        "colab": {
          "base_uri": "https://localhost:8080/"
        },
        "id": "mNQa7u2inAZv",
        "outputId": "467f7e30-58db-4b07-9c76-ec441e94d513"
      },
      "execution_count": 5,
      "outputs": [
        {
          "output_type": "stream",
          "name": "stdout",
          "text": [
            "Sunny\n"
          ]
        }
      ]
    }
  ],
  "metadata": {
    "colab": {
      "provenance": [],
      "authorship_tag": "ABX9TyMopwriGUNaSjfsi1pv/McA",
      "include_colab_link": true
    },
    "kernelspec": {
      "display_name": "Python 3",
      "name": "python3"
    },
    "language_info": {
      "name": "python"
    }
  },
  "nbformat": 4,
  "nbformat_minor": 0
}